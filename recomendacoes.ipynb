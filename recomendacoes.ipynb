{
 "cells": [
  {
   "cell_type": "markdown",
   "metadata": {},
   "source": [
    "# Fazendo Recomendações #\n",
    "\n",
    "<img src='RECOMENDO.jpg' >"
   ]
  },
  {
   "cell_type": "markdown",
   "metadata": {},
   "source": [
    "Um algoritmo de recomendação basicamente usa os dados de preferências de um grupo de pessoas para fazer recomendações para outras pessoas. Um exemplo é a NetFlix que usa o seu histórico de filmes, séries e documentários assistidos para aprender suas preferêcias e encontrar o que pessoas parecidas com você assistiram e então te recomendar. "
   ]
  },
  {
   "cell_type": "markdown",
   "metadata": {},
   "source": [
    "### Coletando preferências ###\n",
    "\n",
    "<img src='notas.png'>"
   ]
  },
  {
   "cell_type": "markdown",
   "metadata": {},
   "source": [
    "A primeira coisa a se fazer é coletar dados das preferências de diferentes pessoas. Como exemplo, vamos criar alguns dados hipotéticos de avaliação de filmes. Uma ótima maneira de representar esses dados em Python e usar dicionários aninhados como se segue:"
   ]
  },
  {
   "cell_type": "code",
   "execution_count": 4,
   "metadata": {
    "collapsed": false
   },
   "outputs": [],
   "source": [
    "# Um dicionário de avaliações de filmes e suas classificações\n",
    "# para um pequeno conjunto de dados\n",
    "\n",
    "criticas = {'Lisa Rose': {'Lady in the Water': 2.5, 'Snakes on a Plane': 3.5,\n",
    "                         'Just My Luck': 3.0, 'Superman Returns': 3.5,\n",
    "                         'You, Me and Dupree': 2.5,'The Night Listener': 3.0},\n",
    "            \n",
    "           'Gene Seymour': {'Lady in the Water': 3.0, 'Snakes on a Plane': 3.5,\n",
    "                           'Just My Luck': 1.5, 'Superman Returns': 5.0,\n",
    "                           'The Night Listener': 3.0, 'You, Me and Dupree': 3.5},\n",
    "            \n",
    "           'Michael Phillips': {'Lady in the Water': 2.5, 'Snakes on a Plane': 3.0,\n",
    "                               'Superman Returns': 3.5, 'The Night Listener': 4.0},\n",
    "            \n",
    "           'Claudia Puig': {'Snakes on a Plane': 3.5, 'Just My Luck': 3.0,\n",
    "                            'The Night Listener': 4.5, 'Superman Returns': 4.0,\n",
    "                            'You, Me and Dupree': 2.5},\n",
    "            \n",
    "            'Mick LaSalle': {'Lady in the Water': 3.0, 'Snakes on a Plane': 4.0,\n",
    "                            'Just My Luck': 2.0, 'Superman Returns': 3.0,\n",
    "                            'The Night Listener': 3.0, 'You, Me and Dupree': 2.0},\n",
    "            \n",
    "            'Jack Matthews': {'Lady in the Water': 3.0, 'Snakes on a Plane': 4.0,\n",
    "                             'The Night Listener': 3.0, 'Superman Returns': 5.0,\n",
    "                             'You, Me and Dupree': 3.5},\n",
    "            \n",
    "            'Toby': {'Snakes on a Plane': 4.5, 'You, Me and Dupree': 1.0, 'Superman Returns': 4.0}\n",
    "           }\n",
    "\n",
    "#Obs: esse exemplo foi tirado do livro 'Programando a Inteligência Coletiva' "
   ]
  },
  {
   "cell_type": "markdown",
   "metadata": {},
   "source": [
    "### Encontrando Usuários Similares ###"
   ]
  },
  {
   "cell_type": "markdown",
   "metadata": {},
   "source": [
    "Agora que temos esses dados, vamos descobrir o quão essas pessoas são parecidas criando alguma 'escala de similaridade' entre cada indivíduo. Podemos fazer isso de várias formas, duas delas seriam: distância euclidiana e correlação de pearson.  "
   ]
  },
  {
   "cell_type": "markdown",
   "metadata": {},
   "source": [
    "* #### Escala da Distância Eucliadiana #### "
   ]
  },
  {
   "cell_type": "markdown",
   "metadata": {},
   "source": [
    "É algo bem simples, só usar os itens em comum que as pessoas categorizam e os utilizar como eixos de um gráfico. Só plotar isso num gráfico e ver quão próximas elas estão. Quanto mais próximas as pessoas estiverem no espaço de preferência, mais similares elas são. Segue um exemplo de código que faz isso:  "
   ]
  },
  {
   "cell_type": "code",
   "execution_count": 7,
   "metadata": {
    "collapsed": false
   },
   "outputs": [],
   "source": [
    "from math import *\n",
    "\n",
    "def similaridade(dados_preferecias, pessoa1, pessoa2):\n",
    "    '''\n",
    "    Retorna uma nota de similaridade baseada em distância \n",
    "    euclidiana entre a pessoa1 e pessoa2.\n",
    "    '''\n",
    "    # obtem a lista de itens_em_comum entre a pessoa1 e pessoa2\n",
    "    em_comum = {}\n",
    "    for item in dados_preferecias[pessoa1]:\n",
    "        if item in dados_preferecias[pessoa2]:\n",
    "            em_comum[item] = 1\n",
    "            \n",
    "    # se não existe classificações em comum, retorna zero\n",
    "    if len(em_comum) == 0: return 0\n",
    "    \n",
    "    # soma os quadrados de todas as diferenças entre as \n",
    "    # notas que pessoa1 e pessoa2 deu para um filme em comum\n",
    "    soma_dos_quadrados = sum([pow(dados_preferecias[pessoa1][item] - dados_preferecias[pessoa2][item], 2) \\\n",
    "                             for item in dados_preferecias[pessoa1] if item in dados_preferecias[pessoa2]])\n",
    "    \n",
    "    # Calculei a escala assim para mostra que quanto maior o valor mais semelhante \n",
    "    # as pessoas 1 e 2 são. Se usássemos apenas a distância euclidiana seria  \n",
    "    # o contrário, quanto menor o valor, ou seja, a distância, mais semelhantes\n",
    "    # elas seriam. \n",
    "    return 1 / (1 + soma_dos_quadrados)"
   ]
  },
  {
   "cell_type": "code",
   "execution_count": 10,
   "metadata": {
    "collapsed": false
   },
   "outputs": [
    {
     "data": {
      "text/plain": [
       "0.14814814814814814"
      ]
     },
     "execution_count": 10,
     "metadata": {},
     "output_type": "execute_result"
    }
   ],
   "source": [
    "# Vamos ver a nota de similaridade entre Lisa Rose e Gene Seymor\n",
    "similaridade(criticas, 'Lisa Rose', 'Gene Seymour')"
   ]
  },
  {
   "cell_type": "code",
   "execution_count": null,
   "metadata": {
    "collapsed": true
   },
   "outputs": [],
   "source": []
  }
 ],
 "metadata": {
  "anaconda-cloud": {},
  "kernelspec": {
   "display_name": "Python [conda root]",
   "language": "python",
   "name": "conda-root-py"
  },
  "language_info": {
   "codemirror_mode": {
    "name": "ipython",
    "version": 2
   },
   "file_extension": ".py",
   "mimetype": "text/x-python",
   "name": "python",
   "nbconvert_exporter": "python",
   "pygments_lexer": "ipython2",
   "version": "2.7.12"
  }
 },
 "nbformat": 4,
 "nbformat_minor": 1
}
