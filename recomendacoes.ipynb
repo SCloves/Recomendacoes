{
 "cells": [
  {
   "cell_type": "markdown",
   "metadata": {},
   "source": [
    "# Fazendo Recomendações #\n",
    "\n",
    "<img src='RECOMENDO.jpg' >"
   ]
  },
  {
   "cell_type": "markdown",
   "metadata": {},
   "source": [
    "Um algoritmo de recomendação basicamente usa os dados de preferências de um grupo de pessoas para fazer recomendações para outras pessoas. Um exemplo é a NetFlix que usa o seu histórico de filmes, séries e documentários assistidos para aprender suas preferêcias e encontrar o que pessoas parecidas com você assistiram e então te recomendar. "
   ]
  },
  {
   "cell_type": "markdown",
   "metadata": {},
   "source": [
    "### Coletando preferências ###\n",
    "\n",
    "<img src='notas.png'>"
   ]
  },
  {
   "cell_type": "markdown",
   "metadata": {},
   "source": [
    "A primeira coisa a se fazer é coletar dados das preferências de diferentes pessoas. Como exemplo, vamos criar alguns dados hipotéticos de avaliação de filmes. Uma ótima maneira de representar esses dados em Python e usar dicionários aninhados como se segue:"
   ]
  },
  {
   "cell_type": "code",
   "execution_count": 1,
   "metadata": {
    "collapsed": false
   },
   "outputs": [],
   "source": [
    "# Um dicionário de avaliações de filmes e suas classificações\n",
    "\n",
    "criticas = {'Lisa Rose': {'Lady in the Water': 2.5, 'Snakes on a Plane': 3.5,\n",
    "                         'Just My Luck': 3.0, 'Superman Returns': 3.5,\n",
    "                         'You, Me and Dupree': 2.5,'The Night Listener': 3.0},\n",
    "            \n",
    "           'Gene Seymour': {'Lady in the Water': 3.0, 'Snakes on a Plane': 3.5,\n",
    "                           'Just My Luck': 1.5, 'Superman Returns': 5.0,\n",
    "                           'The Night Listener': 3.0, 'You, Me and Dupree': 3.5},\n",
    "            \n",
    "           'Michael Phillips': {'Lady in the Water': 2.5, 'Snakes on a Plane': 3.0,\n",
    "                               'Superman Returns': 3.5, 'The Night Listener': 4.0},\n",
    "            \n",
    "           'Claudia Puig': {'Snakes on a Plane': 3.5, 'Just My Luck': 3.0,\n",
    "                            'The Night Listener': 4.5, 'Superman Returns': 4.0,\n",
    "                            'You, Me and Dupree': 2.5},\n",
    "            \n",
    "            'Mick LaSalle': {'Lady in the Water': 3.0, 'Snakes on a Plane': 4.0,\n",
    "                            'Just My Luck': 2.0, 'Superman Returns': 3.0,\n",
    "                            'The Night Listener': 3.0, 'You, Me and Dupree': 2.0},\n",
    "            \n",
    "            'Jack Matthews': {'Lady in the Water': 3.0, 'Snakes on a Plane': 4.0,\n",
    "                             'The Night Listener': 3.0, 'Superman Returns': 5.0,\n",
    "                             'You, Me and Dupree': 3.5},\n",
    "            \n",
    "            'Toby': {'Snakes on a Plane': 4.5, 'You, Me and Dupree': 1.0, 'Superman Returns': 4.0}\n",
    "           }\n",
    "\n",
    "#Obs: esse exemplo foi retirado do livro 'Programando a Inteligência Coletiva' de Toby Segaran, O'Reilly"
   ]
  },
  {
   "cell_type": "markdown",
   "metadata": {},
   "source": [
    "### Encontrando Usuários Similares ###"
   ]
  },
  {
   "cell_type": "markdown",
   "metadata": {},
   "source": [
    "Agora que temos esses dados, vamos descobrir o quão essas pessoas são parecidas criando alguma 'escala de similaridade' entre cada indivíduo. Podemos fazer isso de várias formas, duas delas seriam: distância euclidiana e correlação de pearson.  "
   ]
  },
  {
   "cell_type": "markdown",
   "metadata": {},
   "source": [
    "* #### Usando a Distância Eucliadiana como escala de similaridade #### "
   ]
  },
  {
   "cell_type": "markdown",
   "metadata": {},
   "source": [
    "É algo bem simples, só usar os itens em comum que as pessoas categorizaram e os utilizar como eixos de um gráfico. Quanto mais próximas as pessoas estiverem no espaço de preferência, mais similares elas são. A seguir temos algumas pessoas plotadas num espaço de preferências, tendo como eixo os filmes 'You, Me and Dupree', e 'Snakes on a Plane'.\n",
    "\n",
    "<img src='espaco_preferencia.png'> "
   ]
  },
  {
   "cell_type": "markdown",
   "metadata": {},
   "source": [
    "Vamos criar uma escala baseada na Distância Euclidiana. A seguir, temos uma função que nos dá uma espécie de nota de similaridade entre duas pessoas:"
   ]
  },
  {
   "cell_type": "code",
   "execution_count": 2,
   "metadata": {
    "collapsed": true
   },
   "outputs": [],
   "source": [
    "from math import *\n",
    "\n",
    "def similaridade(dados_preferecias, pessoa1, pessoa2):\n",
    "    '''\n",
    "    Retorna uma nota de similaridade baseada na distância \n",
    "    euclidiana entre a pessoa1 e pessoa2.\n",
    "    '''\n",
    "    # obtem a lista de itens_em_comum entre a pessoa1 e pessoa2\n",
    "    em_comum = {}\n",
    "    for item in dados_preferecias[pessoa1]:\n",
    "        if item in dados_preferecias[pessoa2]:\n",
    "            em_comum[item] = 1\n",
    "            \n",
    "    # se não existe classificações em comum, retorna zero\n",
    "    if len(em_comum) == 0: return 0\n",
    "    \n",
    "    # soma os quadrados de todas as diferenças entre as \n",
    "    # notas que pessoa1 e pessoa2 deu para um filme em comum\n",
    "    soma_dos_quadrados = sum([pow(dados_preferecias[pessoa1][item] - dados_preferecias[pessoa2][item], 2) \\\n",
    "                             for item in dados_preferecias[pessoa1] if item in dados_preferecias[pessoa2]])\n",
    "    \n",
    "    # Calculando a escala dessa teremos que, quanto maior o valor mais semelhante \n",
    "    # as pessoas 1 e 2 são. Se usássemos apenas a distância euclidiana seria  \n",
    "    # o contrário, quanto menor o valor, ou seja, a distância, mais semelhantes\n",
    "    # elas seriam.  \n",
    "    return 1 / (1 + soma_dos_quadrados)"
   ]
  },
  {
   "cell_type": "code",
   "execution_count": 3,
   "metadata": {
    "collapsed": false
   },
   "outputs": [
    {
     "data": {
      "text/plain": [
       "0.14814814814814814"
      ]
     },
     "execution_count": 3,
     "metadata": {},
     "output_type": "execute_result"
    }
   ],
   "source": [
    "# Vamos ver a nota de similaridade entre Lisa Rose e Gene Seymor\n",
    "similaridade(criticas, 'Lisa Rose', 'Gene Seymour')"
   ]
  },
  {
   "cell_type": "markdown",
   "metadata": {
    "collapsed": true
   },
   "source": [
    "* #### Usando o Coeficiente de correlação de Pearson como escala de similaridade ####"
   ]
  },
  {
   "cell_type": "markdown",
   "metadata": {},
   "source": [
    "Uma forma um pouco mais sofisticada de determinar a similaridade entre duas pessoas seria usar o Coeficiente de Correlação de Pearson. Essa fórmula nos diz o quão bem os dados se encaixam em torno de uma reta, ou seja, o quão correlacionado esse conjunto de dados estão. Para uma explicação intuitiva sobre o Coeficiente de Correlação de Pearson, assista:\n",
    "\n",
    "[The Correlation Coefficient - Explained in Three Steps](https://www.youtube.com/watch?v=ugd4k3dC_8Y)"
   ]
  },
  {
   "cell_type": "markdown",
   "metadata": {},
   "source": [
    "A figura a seguir nos ajuda a visualizar esse método. Os eixos dessa vez são as pessoas, na figura temos como eixos Mick LaSalle e Gene Seymour, e os pontos no gráfico são os filmes em comum plotados de acordo com a nota que cada um dos dois deu. Por exemplo, Mick deu nota 3 para o filme Superman e Gene deu nota 5 para o mesmo, de modo que Supermen se encontra na coordenada (3, 5). \n",
    "\n",
    "<img src='grafico_dispersao.png'>"
   ]
  },
  {
   "cell_type": "markdown",
   "metadata": {},
   "source": [
    "A reta que está encaixada entre os filmes é chamada de *melhor reta*, ou ainda, *linha mais adequada* para descrever esses dados. Essa reta é encontrada através de métodos de regresão linear(Veja o notebook *Usando Gradiente Descendente para fazer Regresão Linear*). \n",
    "\n",
    "A seguir, temos a fórmula do Coeficiente de Pearson: \n",
    "\n",
    "<img src='formulapearson.jpg'>\n",
    "\n",
    "Não se assuste com essa fórmula, ela é muito mais símples do que parece. Caso deseje entender melhor o que tudo isso significa, assista esse exelente vídeo:\n",
    "\n",
    "[Estatística - Aula 15: Coeficiente de Correlação](https://www.youtube.com/watch?v=RPOpNR387yg)\n",
    "\n",
    "A seguir, temos a função que faz esse cálculo:"
   ]
  },
  {
   "cell_type": "code",
   "execution_count": 4,
   "metadata": {
    "collapsed": true
   },
   "outputs": [],
   "source": [
    "def coeficiente_pearson(dados_preferencias, pessoa1, pessoa2):\n",
    "    '''\n",
    "    Retorna o coeficiente de pearson entre pessoa1 e pessoa2\n",
    "    '''\n",
    "    \n",
    "    # Obtem o dicionário de filmes em comum\n",
    "    em_comum = {}\n",
    "    for item in dados_preferencias[pessoa1]:\n",
    "        if item in dados_preferencias[pessoa2]:\n",
    "            em_comum[item] = 1\n",
    "            \n",
    "    # Se não tem filmes em comum, retorna zero\n",
    "    n = len(em_comum)\n",
    "    if n == 0:\n",
    "        return 0\n",
    "    \n",
    "    # Soma todas as preferências\n",
    "    soma1 = sum(dados_preferencias[pessoa1][filme] for filme in em_comum)\n",
    "    soma2 = sum(dados_preferencias[pessoa2][filme] for filme in em_comum)\n",
    "    \n",
    "    # Soma os quadrados\n",
    "    soma1_quadrado = sum([pow(dados_preferencias[pessoa1][filme], 2) for filme in em_comum])\n",
    "    soma2_quadrado = sum([pow(dados_preferencias[pessoa2][filme], 2) for filme in em_comum])\n",
    "    \n",
    "    # Soma os produtos\n",
    "    soma_produto = sum(dados_preferencias[pessoa1][filme]*dados_preferencias[pessoa2][filme] \\\n",
    "                       for filme in em_comum)\n",
    "    \n",
    "    # Calcula o coeficiente de pearson\n",
    "    \n",
    "    # (n(Σxy) - (Σx)(Σy))\n",
    "    numerador = soma_produto - (soma1*soma2/n)\n",
    "    # √((n(Σx²) - (Σx)²)(n(Σy²) - (Σy)²))\n",
    "    denominador = sqrt((soma1_quadrado-pow(soma1, 2)/n)*(soma2_quadrado-pow(soma2,2)/n))\n",
    "\n",
    "    if denominador == 0: return 0\n",
    "    \n",
    "    # r = (n(Σxy) - (Σx)(Σy)) ÷ √((n(Σx²) - (Σx)²)(n(Σy²) - (Σy)²))\n",
    "    r = numerador/denominador\n",
    "    \n",
    "    return r\n",
    "    "
   ]
  },
  {
   "cell_type": "code",
   "execution_count": 5,
   "metadata": {
    "collapsed": false
   },
   "outputs": [
    {
     "data": {
      "text/plain": [
       "0.39605901719066977"
      ]
     },
     "execution_count": 5,
     "metadata": {},
     "output_type": "execute_result"
    }
   ],
   "source": [
    "# Vamos ver o coeficiente de correlação entre Lisa e Gene\n",
    "\n",
    "coeficiente_pearson(criticas, 'Lisa Rose', 'Gene Seymour')"
   ]
  },
  {
   "cell_type": "markdown",
   "metadata": {
    "collapsed": true
   },
   "source": [
    "### Qual métrica de similaridade deve ser usada? ###\n",
    "\n",
    "Existem inúmeras outras formas de calcular similaridade entre dois conjuntos de dados, tudo dependerá do seu conjunto de dados. Para conhecer outras métricas de similaridade leia:\n",
    "\n",
    "link"
   ]
  },
  {
   "cell_type": "markdown",
   "metadata": {},
   "source": [
    "### Classificando as avaliações ###\n",
    "\n",
    "Agora que temos duas formas de calcular similaridades, poderemos procurar para cada pessoa as pessoas que mais se parecem com elas. A função seguinte cria uma lista ordenada de pessoas com gostos similares a determinada pessoa."
   ]
  },
  {
   "cell_type": "code",
   "execution_count": 6,
   "metadata": {
    "collapsed": false
   },
   "outputs": [],
   "source": [
    "def mais_parecidas(dados_preferencias, pessoa, n=5, metrica=coeficiente_pearson):\n",
    "    '''\n",
    "    Retorna os melhores resultados para cada pessoa do dicioário de preferências. \n",
    "    O numero 'n', ou seja, o número de resultados e a métrica são parâmetros opcionais.\n",
    "    '''\n",
    "    # cria uma lista de tuplas (nota, qual_pessoa)\n",
    "    notas = [(metrica(criticas, pessoa, outra), outra) \\\n",
    "            for outra in criticas if outra != pessoa]\n",
    "    \n",
    "    # Ordena a lista de notas na ordem decrescente\n",
    "    notas.sort()\n",
    "    notas.reverse()\n",
    "    \n",
    "    return notas[0:n]"
   ]
  },
  {
   "cell_type": "code",
   "execution_count": 7,
   "metadata": {
    "collapsed": false
   },
   "outputs": [
    {
     "data": {
      "text/plain": [
       "[(0.9912407071619299, 'Lisa Rose'),\n",
       " (0.9244734516419049, 'Mick LaSalle'),\n",
       " (0.8934051474415647, 'Claudia Puig')]"
      ]
     },
     "execution_count": 7,
     "metadata": {},
     "output_type": "execute_result"
    }
   ],
   "source": [
    "# Vamos calcular as três pessoas mais parecidas com Toby\n",
    "mais_parecidas(criticas, 'Toby', n=3)"
   ]
  },
  {
   "cell_type": "markdown",
   "metadata": {},
   "source": [
    "### Recomendando itens ###\n",
    "\n",
    "O que queremos fazer de verdade aqui é recomendar filmes. Uma forma bem intuitiva de fazer isso é olhar para aquelas pessoas mais parecidas a mim e ver os filmes que essas outras pessoas assistiram que eu ainda não assisti. Mas esse tipo de abordagem não seria tão eficaz. Como exemplo, essa abordagem poderia me retornar uma pessoa que não tenha feito uma avaliação de um filme que eu poderia ter gostado ou ainda, que essa pessoa tenha gostado de um filme em que todos os outros avaliaram mal.\n",
    "\n",
    "Para contornar esses problemas, poderíamos dar notas para os itens usando a média ponderada que sirva para classificar avaliações. Pegue os votos de todos aqueles que fizeram avaliações para um determinado filme em comum e multiplique o quanto  eles são semelhantes a alguém pela nota que eles deram para cada item. "
   ]
  },
  {
   "cell_type": "code",
   "execution_count": 11,
   "metadata": {
    "collapsed": false
   },
   "outputs": [],
   "source": [
    "def recomendacoes(dados_preferencia, pessoa, metrica=coeficiente_pearson):\n",
    "    '''\n",
    "    Obtem recomendações para uma pessoa usando\n",
    "    uma média ponderada de cada avaliação dos \n",
    "    outros usuários. \n",
    "    '''\n",
    "    \n",
    "    totais = {}\n",
    "    soma_similaridade = {}\n",
    "    for outra in dados_preferencia:\n",
    "        # não deixa que compare comigo mesmo\n",
    "        if outra == pessoa: continue\n",
    "        similaridade = metrica(dados_preferencia, pessoa, outra)\n",
    "        \n",
    "        # ignora notas zero ou valores menores que zero\n",
    "        if similaridade <= 0: continue\n",
    "            \n",
    "        for filme in dados_preferencia[outra]:\n",
    "            # apenas notas de filmes que eu não tenha visto ainda\n",
    "            if filme not in dados_preferencia[pessoa] or dados_preferencia[pessoa][filme] == 0:\n",
    "                # similaridade * nota\n",
    "                totais.setdefault(filme, 0)\n",
    "                totais[filme] += dados_preferencia[outra][filme] * similaridade\n",
    "                \n",
    "                # soma de similaridade\n",
    "                soma_similaridade.setdefault(filme, 0)\n",
    "                soma_similaridade[filme] += similaridade\n",
    "                \n",
    "        # cria a lista normalizada\n",
    "        rankings = [(total/float(soma_similaridade[filme]), filme) for filme, total in totais.items()]\n",
    "        \n",
    "        # retorna a lista ordenada de forma decrescente\n",
    "        rankings.sort()\n",
    "        rankings.reverse()\n",
    "        \n",
    "        return rankings"
   ]
  },
  {
   "cell_type": "code",
   "execution_count": 12,
   "metadata": {
    "collapsed": false
   },
   "outputs": [
    {
     "data": {
      "text/plain": [
       "[(3.0, 'The Night Listener'), (3.0, 'Lady in the Water')]"
      ]
     },
     "execution_count": 12,
     "metadata": {},
     "output_type": "execute_result"
    }
   ],
   "source": [
    "# Vamos ver os filmes recomendados para Toby\n",
    "\n",
    "recomendacoes(criticas, 'Toby')"
   ]
  },
  {
   "cell_type": "code",
   "execution_count": 13,
   "metadata": {
    "collapsed": false
   },
   "outputs": [
    {
     "data": {
      "text/plain": [
       "[(3.5, 'You, Me and Dupree')]"
      ]
     },
     "execution_count": 13,
     "metadata": {},
     "output_type": "execute_result"
    }
   ],
   "source": [
    "recomendacoes(criticas, 'Michael Phillips')"
   ]
  },
  {
   "cell_type": "code",
   "execution_count": null,
   "metadata": {
    "collapsed": true
   },
   "outputs": [],
   "source": []
  }
 ],
 "metadata": {
  "anaconda-cloud": {},
  "kernelspec": {
   "display_name": "Python [conda root]",
   "language": "python",
   "name": "conda-root-py"
  },
  "language_info": {
   "codemirror_mode": {
    "name": "ipython",
    "version": 2
   },
   "file_extension": ".py",
   "mimetype": "text/x-python",
   "name": "python",
   "nbconvert_exporter": "python",
   "pygments_lexer": "ipython2",
   "version": "2.7.12"
  }
 },
 "nbformat": 4,
 "nbformat_minor": 1
}
